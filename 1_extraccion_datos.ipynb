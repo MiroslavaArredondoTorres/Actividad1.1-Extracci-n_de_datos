{
 "cells": [
  {
   "cell_type": "code",
   "execution_count": 2,
   "metadata": {},
   "outputs": [
    {
     "name": "stdout",
     "output_type": "stream",
     "text": [
      "Requirement already satisfied: pandas in c:\\users\\miroslava\\appdata\\local\\programs\\python\\python312\\lib\\site-packages (2.2.2)Note: you may need to restart the kernel to use updated packages.\n",
      "\n",
      "Requirement already satisfied: numpy>=1.26.0 in c:\\users\\miroslava\\appdata\\local\\programs\\python\\python312\\lib\\site-packages (from pandas) (2.0.1)\n",
      "Requirement already satisfied: python-dateutil>=2.8.2 in c:\\users\\miroslava\\appdata\\roaming\\python\\python312\\site-packages (from pandas) (2.9.0.post0)\n",
      "Requirement already satisfied: pytz>=2020.1 in c:\\users\\miroslava\\appdata\\local\\programs\\python\\python312\\lib\\site-packages (from pandas) (2024.1)\n",
      "Requirement already satisfied: tzdata>=2022.7 in c:\\users\\miroslava\\appdata\\local\\programs\\python\\python312\\lib\\site-packages (from pandas) (2024.1)\n",
      "Requirement already satisfied: six>=1.5 in c:\\users\\miroslava\\appdata\\roaming\\python\\python312\\site-packages (from python-dateutil>=2.8.2->pandas) (1.16.0)\n"
     ]
    },
    {
     "name": "stderr",
     "output_type": "stream",
     "text": [
      "\n",
      "[notice] A new release of pip is available: 24.0 -> 24.2\n",
      "[notice] To update, run: python.exe -m pip install --upgrade pip\n"
     ]
    },
    {
     "name": "stdout",
     "output_type": "stream",
     "text": [
      "Note: you may need to restart the kernel to use updated packages.Requirement already satisfied: numpy in c:\\users\\miroslava\\appdata\\local\\programs\\python\\python312\\lib\\site-packages (2.0.1)\n",
      "\n"
     ]
    },
    {
     "name": "stderr",
     "output_type": "stream",
     "text": [
      "\n",
      "[notice] A new release of pip is available: 24.0 -> 24.2\n",
      "[notice] To update, run: python.exe -m pip install --upgrade pip\n"
     ]
    }
   ],
   "source": [
    "%pip install pandas\n",
    "%pip install numpy\n",
    "\n",
    "\n"
   ]
  },
  {
   "cell_type": "code",
   "execution_count": 3,
   "metadata": {},
   "outputs": [
    {
     "name": "stdout",
     "output_type": "stream",
     "text": [
      "Collecting matplotlibNote: you may need to restart the kernel to use updated packages.\n"
     ]
    },
    {
     "name": "stderr",
     "output_type": "stream",
     "text": [
      "\n",
      "[notice] A new release of pip is available: 24.0 -> 24.2\n",
      "[notice] To update, run: python.exe -m pip install --upgrade pip\n"
     ]
    },
    {
     "name": "stdout",
     "output_type": "stream",
     "text": [
      "\n",
      "  Downloading matplotlib-3.9.1.post1-cp312-cp312-win_amd64.whl.metadata (11 kB)\n",
      "Collecting contourpy>=1.0.1 (from matplotlib)\n",
      "  Downloading contourpy-1.2.1-cp312-cp312-win_amd64.whl.metadata (5.8 kB)\n",
      "Collecting cycler>=0.10 (from matplotlib)\n",
      "  Downloading cycler-0.12.1-py3-none-any.whl.metadata (3.8 kB)\n",
      "Collecting fonttools>=4.22.0 (from matplotlib)\n",
      "  Downloading fonttools-4.53.1-cp312-cp312-win_amd64.whl.metadata (165 kB)\n",
      "     ---------------------------------------- 0.0/165.9 kB ? eta -:--:--\n",
      "     --------- --------------------------- 41.0/165.9 kB 667.8 kB/s eta 0:00:01\n",
      "     ---------------------------- --------- 122.9/165.9 kB 1.2 MB/s eta 0:00:01\n",
      "     -------------------------------------- 165.9/165.9 kB 1.1 MB/s eta 0:00:00\n",
      "Collecting kiwisolver>=1.3.1 (from matplotlib)\n",
      "  Downloading kiwisolver-1.4.5-cp312-cp312-win_amd64.whl.metadata (6.5 kB)\n",
      "Requirement already satisfied: numpy>=1.23 in c:\\users\\miroslava\\appdata\\local\\programs\\python\\python312\\lib\\site-packages (from matplotlib) (2.0.1)\n",
      "Requirement already satisfied: packaging>=20.0 in c:\\users\\miroslava\\appdata\\roaming\\python\\python312\\site-packages (from matplotlib) (24.1)\n",
      "Collecting pillow>=8 (from matplotlib)\n",
      "  Downloading pillow-10.4.0-cp312-cp312-win_amd64.whl.metadata (9.3 kB)\n",
      "Collecting pyparsing>=2.3.1 (from matplotlib)\n",
      "  Downloading pyparsing-3.1.2-py3-none-any.whl.metadata (5.1 kB)\n",
      "Requirement already satisfied: python-dateutil>=2.7 in c:\\users\\miroslava\\appdata\\roaming\\python\\python312\\site-packages (from matplotlib) (2.9.0.post0)\n",
      "Requirement already satisfied: six>=1.5 in c:\\users\\miroslava\\appdata\\roaming\\python\\python312\\site-packages (from python-dateutil>=2.7->matplotlib) (1.16.0)\n",
      "Downloading matplotlib-3.9.1.post1-cp312-cp312-win_amd64.whl (8.0 MB)\n",
      "   ---------------------------------------- 0.0/8.0 MB ? eta -:--:--\n",
      "    --------------------------------------- 0.2/8.0 MB 5.9 MB/s eta 0:00:02\n",
      "   -- ------------------------------------- 0.5/8.0 MB 6.7 MB/s eta 0:00:02\n",
      "   ---- ----------------------------------- 0.8/8.0 MB 6.6 MB/s eta 0:00:02\n",
      "   ----- ---------------------------------- 1.2/8.0 MB 6.7 MB/s eta 0:00:02\n",
      "   ------ --------------------------------- 1.4/8.0 MB 6.2 MB/s eta 0:00:02\n",
      "   -------- ------------------------------- 1.8/8.0 MB 6.5 MB/s eta 0:00:01\n",
      "   ---------- ----------------------------- 2.0/8.0 MB 6.5 MB/s eta 0:00:01\n",
      "   ----------- ---------------------------- 2.3/8.0 MB 6.0 MB/s eta 0:00:01\n",
      "   ------------ --------------------------- 2.5/8.0 MB 6.1 MB/s eta 0:00:01\n",
      "   ------------- -------------------------- 2.8/8.0 MB 5.9 MB/s eta 0:00:01\n",
      "   --------------- ------------------------ 3.0/8.0 MB 5.8 MB/s eta 0:00:01\n",
      "   ---------------- ----------------------- 3.3/8.0 MB 5.8 MB/s eta 0:00:01\n",
      "   ----------------- ---------------------- 3.5/8.0 MB 5.6 MB/s eta 0:00:01\n",
      "   ------------------ --------------------- 3.7/8.0 MB 5.5 MB/s eta 0:00:01\n",
      "   ------------------- -------------------- 3.9/8.0 MB 5.4 MB/s eta 0:00:01\n",
      "   -------------------- ------------------- 4.0/8.0 MB 5.3 MB/s eta 0:00:01\n",
      "   -------------------- ------------------- 4.1/8.0 MB 5.3 MB/s eta 0:00:01\n",
      "   --------------------- ------------------ 4.3/8.0 MB 5.0 MB/s eta 0:00:01\n",
      "   ----------------------- ---------------- 4.6/8.0 MB 5.1 MB/s eta 0:00:01\n",
      "   ------------------------ --------------- 4.8/8.0 MB 5.1 MB/s eta 0:00:01\n",
      "   ------------------------ --------------- 5.0/8.0 MB 5.1 MB/s eta 0:00:01\n",
      "   -------------------------- ------------- 5.2/8.0 MB 4.9 MB/s eta 0:00:01\n",
      "   --------------------------- ------------ 5.5/8.0 MB 5.0 MB/s eta 0:00:01\n",
      "   ---------------------------- ----------- 5.6/8.0 MB 4.9 MB/s eta 0:00:01\n",
      "   ------------------------------ --------- 6.0/8.0 MB 5.0 MB/s eta 0:00:01\n",
      "   ------------------------------- -------- 6.3/8.0 MB 5.1 MB/s eta 0:00:01\n",
      "   --------------------------------- ------ 6.7/8.0 MB 5.1 MB/s eta 0:00:01\n",
      "   ----------------------------------- ---- 7.0/8.0 MB 5.2 MB/s eta 0:00:01\n",
      "   ------------------------------------ --- 7.4/8.0 MB 5.3 MB/s eta 0:00:01\n",
      "   ------------------------------------- -- 7.5/8.0 MB 5.2 MB/s eta 0:00:01\n",
      "   ---------------------------------------  7.8/8.0 MB 5.3 MB/s eta 0:00:01\n",
      "   ---------------------------------------- 8.0/8.0 MB 5.1 MB/s eta 0:00:00\n",
      "Downloading contourpy-1.2.1-cp312-cp312-win_amd64.whl (189 kB)\n",
      "   ---------------------------------------- 0.0/189.9 kB ? eta -:--:--\n",
      "   --------------------------------------- 189.9/189.9 kB 12.0 MB/s eta 0:00:00\n",
      "Downloading cycler-0.12.1-py3-none-any.whl (8.3 kB)\n",
      "Downloading fonttools-4.53.1-cp312-cp312-win_amd64.whl (2.2 MB)\n",
      "   ---------------------------------------- 0.0/2.2 MB ? eta -:--:--\n",
      "   ----- ---------------------------------- 0.3/2.2 MB 6.5 MB/s eta 0:00:01\n",
      "   ---------- ----------------------------- 0.6/2.2 MB 7.1 MB/s eta 0:00:01\n",
      "   ------------- -------------------------- 0.8/2.2 MB 6.0 MB/s eta 0:00:01\n",
      "   -------------------- ------------------- 1.1/2.2 MB 6.0 MB/s eta 0:00:01\n",
      "   ------------------------- -------------- 1.4/2.2 MB 5.8 MB/s eta 0:00:01\n",
      "   ------------------------------ --------- 1.7/2.2 MB 5.9 MB/s eta 0:00:01\n",
      "   ----------------------------------- ---- 1.9/2.2 MB 5.9 MB/s eta 0:00:01\n",
      "   ---------------------------------------  2.2/2.2 MB 5.8 MB/s eta 0:00:01\n",
      "   ---------------------------------------- 2.2/2.2 MB 5.4 MB/s eta 0:00:00\n",
      "Downloading kiwisolver-1.4.5-cp312-cp312-win_amd64.whl (56 kB)\n",
      "   ---------------------------------------- 0.0/56.0 kB ? eta -:--:--\n",
      "   ---------------------------------------- 56.0/56.0 kB 2.9 MB/s eta 0:00:00\n",
      "Downloading pillow-10.4.0-cp312-cp312-win_amd64.whl (2.6 MB)\n",
      "   ---------------------------------------- 0.0/2.6 MB ? eta -:--:--\n",
      "   ----- ---------------------------------- 0.4/2.6 MB 11.2 MB/s eta 0:00:01\n",
      "   --------- ------------------------------ 0.6/2.6 MB 7.9 MB/s eta 0:00:01\n",
      "   ------------- -------------------------- 0.9/2.6 MB 6.2 MB/s eta 0:00:01\n",
      "   ----------------- ---------------------- 1.1/2.6 MB 6.6 MB/s eta 0:00:01\n",
      "   --------------------- ------------------ 1.4/2.6 MB 6.2 MB/s eta 0:00:01\n",
      "   -------------------------- ------------- 1.7/2.6 MB 6.3 MB/s eta 0:00:01\n",
      "   ----------------------------- ---------- 1.9/2.6 MB 5.8 MB/s eta 0:00:01\n",
      "   --------------------------------- ------ 2.1/2.6 MB 5.9 MB/s eta 0:00:01\n",
      "   ------------------------------------ --- 2.3/2.6 MB 5.6 MB/s eta 0:00:01\n",
      "   ---------------------------------------  2.5/2.6 MB 5.8 MB/s eta 0:00:01\n",
      "   ---------------------------------------- 2.6/2.6 MB 5.4 MB/s eta 0:00:00\n",
      "Downloading pyparsing-3.1.2-py3-none-any.whl (103 kB)\n",
      "   ---------------------------------------- 0.0/103.2 kB ? eta -:--:--\n",
      "   ---------------------------------------- 103.2/103.2 kB 5.8 MB/s eta 0:00:00\n",
      "Installing collected packages: pyparsing, pillow, kiwisolver, fonttools, cycler, contourpy, matplotlib\n",
      "Successfully installed contourpy-1.2.1 cycler-0.12.1 fonttools-4.53.1 kiwisolver-1.4.5 matplotlib-3.9.1.post1 pillow-10.4.0 pyparsing-3.1.2\n"
     ]
    }
   ],
   "source": [
    "%pip install matplotlib"
   ]
  },
  {
   "cell_type": "code",
   "execution_count": 4,
   "metadata": {},
   "outputs": [
    {
     "name": "stdout",
     "output_type": "stream",
     "text": [
      "Collecting seaborn\n",
      "  Downloading seaborn-0.13.2-py3-none-any.whl.metadata (5.4 kB)\n",
      "Requirement already satisfied: numpy!=1.24.0,>=1.20 in c:\\users\\miroslava\\appdata\\local\\programs\\python\\python312\\lib\\site-packages (from seaborn) (2.0.1)\n",
      "Requirement already satisfied: pandas>=1.2 in c:\\users\\miroslava\\appdata\\local\\programs\\python\\python312\\lib\\site-packages (from seaborn) (2.2.2)\n",
      "Requirement already satisfied: matplotlib!=3.6.1,>=3.4 in c:\\users\\miroslava\\appdata\\local\\programs\\python\\python312\\lib\\site-packages (from seaborn) (3.9.1.post1)\n",
      "Requirement already satisfied: contourpy>=1.0.1 in c:\\users\\miroslava\\appdata\\local\\programs\\python\\python312\\lib\\site-packages (from matplotlib!=3.6.1,>=3.4->seaborn) (1.2.1)\n",
      "Requirement already satisfied: cycler>=0.10 in c:\\users\\miroslava\\appdata\\local\\programs\\python\\python312\\lib\\site-packages (from matplotlib!=3.6.1,>=3.4->seaborn) (0.12.1)\n",
      "Requirement already satisfied: fonttools>=4.22.0 in c:\\users\\miroslava\\appdata\\local\\programs\\python\\python312\\lib\\site-packages (from matplotlib!=3.6.1,>=3.4->seaborn) (4.53.1)\n",
      "Requirement already satisfied: kiwisolver>=1.3.1 in c:\\users\\miroslava\\appdata\\local\\programs\\python\\python312\\lib\\site-packages (from matplotlib!=3.6.1,>=3.4->seaborn) (1.4.5)\n",
      "Requirement already satisfied: packaging>=20.0 in c:\\users\\miroslava\\appdata\\roaming\\python\\python312\\site-packages (from matplotlib!=3.6.1,>=3.4->seaborn) (24.1)\n",
      "Requirement already satisfied: pillow>=8 in c:\\users\\miroslava\\appdata\\local\\programs\\python\\python312\\lib\\site-packages (from matplotlib!=3.6.1,>=3.4->seaborn) (10.4.0)\n",
      "Requirement already satisfied: pyparsing>=2.3.1 in c:\\users\\miroslava\\appdata\\local\\programs\\python\\python312\\lib\\site-packages (from matplotlib!=3.6.1,>=3.4->seaborn) (3.1.2)\n",
      "Requirement already satisfied: python-dateutil>=2.7 in c:\\users\\miroslava\\appdata\\roaming\\python\\python312\\site-packages (from matplotlib!=3.6.1,>=3.4->seaborn) (2.9.0.post0)\n",
      "Requirement already satisfied: pytz>=2020.1 in c:\\users\\miroslava\\appdata\\local\\programs\\python\\python312\\lib\\site-packages (from pandas>=1.2->seaborn) (2024.1)\n",
      "Requirement already satisfied: tzdata>=2022.7 in c:\\users\\miroslava\\appdata\\local\\programs\\python\\python312\\lib\\site-packages (from pandas>=1.2->seaborn) (2024.1)\n",
      "Requirement already satisfied: six>=1.5 in c:\\users\\miroslava\\appdata\\roaming\\python\\python312\\site-packages (from python-dateutil>=2.7->matplotlib!=3.6.1,>=3.4->seaborn) (1.16.0)\n",
      "Downloading seaborn-0.13.2-py3-none-any.whl (294 kB)\n",
      "   ---------------------------------------- 0.0/294.9 kB ? eta -:--:--\n",
      "   - -------------------------------------- 10.2/294.9 kB ? eta -:--:--\n",
      "   ---- ---------------------------------- 30.7/294.9 kB 262.6 kB/s eta 0:00:02\n",
      "   ---- ---------------------------------- 30.7/294.9 kB 262.6 kB/s eta 0:00:02\n",
      "   ---- ---------------------------------- 30.7/294.9 kB 262.6 kB/s eta 0:00:02\n",
      "   ---- ---------------------------------- 30.7/294.9 kB 262.6 kB/s eta 0:00:02\n",
      "   ----- --------------------------------- 41.0/294.9 kB 122.9 kB/s eta 0:00:03\n",
      "   -------- ------------------------------ 61.4/294.9 kB 163.6 kB/s eta 0:00:02\n",
      "   -------- ------------------------------ 61.4/294.9 kB 163.6 kB/s eta 0:00:02\n",
      "   -------- ------------------------------ 61.4/294.9 kB 163.6 kB/s eta 0:00:02\n",
      "   ------------ -------------------------- 92.2/294.9 kB 180.8 kB/s eta 0:00:02\n",
      "   -------------- ----------------------- 112.6/294.9 kB 218.3 kB/s eta 0:00:01\n",
      "   -------------- ----------------------- 112.6/294.9 kB 218.3 kB/s eta 0:00:01\n",
      "   -------------- ----------------------- 112.6/294.9 kB 218.3 kB/s eta 0:00:01\n",
      "   ------------------ ------------------- 143.4/294.9 kB 213.0 kB/s eta 0:00:01\n",
      "   ------------------ ------------------- 143.4/294.9 kB 213.0 kB/s eta 0:00:01\n",
      "   ------------------- ------------------ 153.6/294.9 kB 203.9 kB/s eta 0:00:01\n",
      "   ---------------------- --------------- 174.1/294.9 kB 209.8 kB/s eta 0:00:01\n",
      "   ---------------------- --------------- 174.1/294.9 kB 209.8 kB/s eta 0:00:01\n",
      "   ------------------------- ------------ 194.6/294.9 kB 214.3 kB/s eta 0:00:01\n",
      "   ------------------------- ------------ 194.6/294.9 kB 214.3 kB/s eta 0:00:01\n",
      "   ------------------------- ------------ 194.6/294.9 kB 214.3 kB/s eta 0:00:01\n",
      "   ------------------------- ------------ 194.6/294.9 kB 214.3 kB/s eta 0:00:01\n",
      "   ------------------------- ------------ 194.6/294.9 kB 214.3 kB/s eta 0:00:01\n",
      "   ----------------------------- -------- 225.3/294.9 kB 191.1 kB/s eta 0:00:01\n",
      "   ----------------------------- -------- 225.3/294.9 kB 191.1 kB/s eta 0:00:01\n",
      "   ------------------------------ ------- 235.5/294.9 kB 184.8 kB/s eta 0:00:01\n",
      "   ------------------------------ ------- 235.5/294.9 kB 184.8 kB/s eta 0:00:01\n",
      "   -------------------------------- ----- 256.0/294.9 kB 189.5 kB/s eta 0:00:01\n",
      "   -------------------------------- ----- 256.0/294.9 kB 189.5 kB/s eta 0:00:01\n",
      "   -------------------------------- ----- 256.0/294.9 kB 189.5 kB/s eta 0:00:01\n",
      "   ----------------------------------- -- 276.5/294.9 kB 187.2 kB/s eta 0:00:01\n",
      "   ----------------------------------- -- 276.5/294.9 kB 187.2 kB/s eta 0:00:01\n",
      "   ----------------------------------- -- 276.5/294.9 kB 187.2 kB/s eta 0:00:01\n",
      "   -------------------------------------- 294.9/294.9 kB 176.8 kB/s eta 0:00:00\n",
      "Installing collected packages: seaborn\n",
      "Successfully installed seaborn-0.13.2\n",
      "Note: you may need to restart the kernel to use updated packages.\n"
     ]
    },
    {
     "name": "stderr",
     "output_type": "stream",
     "text": [
      "\n",
      "[notice] A new release of pip is available: 24.0 -> 24.2\n",
      "[notice] To update, run: python.exe -m pip install --upgrade pip\n"
     ]
    }
   ],
   "source": [
    "%pip install seaborn"
   ]
  },
  {
   "cell_type": "code",
   "execution_count": 5,
   "metadata": {},
   "outputs": [
    {
     "name": "stdout",
     "output_type": "stream",
     "text": [
      "Collecting openpyxlNote: you may need to restart the kernel to use updated packages.\n"
     ]
    },
    {
     "name": "stderr",
     "output_type": "stream",
     "text": [
      "\n",
      "[notice] A new release of pip is available: 24.0 -> 24.2\n",
      "[notice] To update, run: python.exe -m pip install --upgrade pip\n"
     ]
    },
    {
     "name": "stdout",
     "output_type": "stream",
     "text": [
      "\n",
      "  Downloading openpyxl-3.1.5-py2.py3-none-any.whl.metadata (2.5 kB)\n",
      "Collecting et-xmlfile (from openpyxl)\n",
      "  Downloading et_xmlfile-1.1.0-py3-none-any.whl.metadata (1.8 kB)\n",
      "Downloading openpyxl-3.1.5-py2.py3-none-any.whl (250 kB)\n",
      "   ---------------------------------------- 0.0/250.9 kB ? eta -:--:--\n",
      "   ------ -------------------------------- 41.0/250.9 kB 991.0 kB/s eta 0:00:01\n",
      "   -------------- ------------------------- 92.2/250.9 kB 1.3 MB/s eta 0:00:01\n",
      "   ----------------------------------- ---- 225.3/250.9 kB 1.7 MB/s eta 0:00:01\n",
      "   ---------------------------------------- 250.9/250.9 kB 1.4 MB/s eta 0:00:00\n",
      "Downloading et_xmlfile-1.1.0-py3-none-any.whl (4.7 kB)\n",
      "Installing collected packages: et-xmlfile, openpyxl\n",
      "Successfully installed et-xmlfile-1.1.0 openpyxl-3.1.5\n"
     ]
    }
   ],
   "source": [
    "%pip install openpyxl"
   ]
  },
  {
   "cell_type": "code",
   "execution_count": 6,
   "metadata": {},
   "outputs": [
    {
     "name": "stderr",
     "output_type": "stream",
     "text": [
      "Matplotlib is building the font cache; this may take a moment.\n"
     ]
    }
   ],
   "source": [
    "#INSTALAR LIBRERIAS REQUERIDAS\n",
    "import pandas as pd\n",
    "import numpy as np\n",
    "import matplotlib.pyplot as plt\n",
    "import seaborn as sns"
   ]
  },
  {
   "cell_type": "code",
   "execution_count": null,
   "metadata": {},
   "outputs": [],
   "source": []
  },
  {
   "cell_type": "code",
   "execution_count": null,
   "metadata": {},
   "outputs": [],
   "source": []
  },
  {
   "cell_type": "code",
   "execution_count": null,
   "metadata": {},
   "outputs": [],
   "source": []
  },
  {
   "cell_type": "markdown",
   "metadata": {},
   "source": []
  }
 ],
 "metadata": {
  "kernelspec": {
   "display_name": "Python 3",
   "language": "python",
   "name": "python3"
  },
  "language_info": {
   "codemirror_mode": {
    "name": "ipython",
    "version": 3
   },
   "file_extension": ".py",
   "mimetype": "text/x-python",
   "name": "python",
   "nbconvert_exporter": "python",
   "pygments_lexer": "ipython3",
   "version": "3.12.4"
  }
 },
 "nbformat": 4,
 "nbformat_minor": 2
}
